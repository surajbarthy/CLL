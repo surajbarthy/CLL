{
 "cells": [
  {
   "cell_type": "markdown",
   "id": "0db30b41",
   "metadata": {},
   "source": [
    "# Final poem at the bottom of the page ஃ\n",
    "[Notion Blog] (https://www.notion.so/surajbarthy/concrete-4248c8f143d54f2fa2d03bd8a6a8f9ee?pvs=4)"
   ]
  },
  {
   "cell_type": "code",
   "execution_count": 2,
   "id": "0d421a45",
   "metadata": {},
   "outputs": [],
   "source": [
    "import random\n",
    "import math"
   ]
  },
  {
   "cell_type": "code",
   "execution_count": 3,
   "id": "570bbf76",
   "metadata": {},
   "outputs": [],
   "source": [
    "from IPython.display import display, HTML\n",
    "def show_html(src):\n",
    "    return display(HTML(src), metadata=dict(isolated=True))"
   ]
  },
  {
   "cell_type": "code",
   "execution_count": 4,
   "id": "9686ff68",
   "metadata": {},
   "outputs": [],
   "source": [
    "html_tmpl = \"\"\"<!DOCTYPE html>\n",
    "<html lang=\"en\">\n",
    "<head>\n",
    "    <meta charset=\"utf-8\">\n",
    "    <title>\"{title}\"</title>\n",
    "    <style>\n",
    "    html {{ min-height: 32em; overflow: hidden; }}\n",
    "    </style>\n",
    "</head>\n",
    "<body>\n",
    "{content}\n",
    "</body>\n",
    "</html>\"\"\""
   ]
  },
  {
   "cell_type": "code",
   "execution_count": 5,
   "id": "951be904",
   "metadata": {
    "scrolled": true
   },
   "outputs": [
    {
     "name": "stdout",
     "output_type": "stream",
     "text": [
      "<!DOCTYPE html>\n",
      "<html lang=\"en\">\n",
      "<head>\n",
      "    <meta charset=\"utf-8\">\n",
      "    <title>\"My first HTML page\"</title>\n",
      "    <style>\n",
      "    html { min-height: 32em; overflow: hidden; }\n",
      "    </style>\n",
      "</head>\n",
      "<body>\n",
      "<h1>This is a test!</h1>\n",
      "</body>\n",
      "</html>\n"
     ]
    }
   ],
   "source": [
    "interp_src = html_tmpl.format(title=\"My first HTML page\", content=\"<h1>This is a test!</h1>\")\n",
    "print(interp_src)"
   ]
  },
  {
   "cell_type": "code",
   "execution_count": 6,
   "id": "ba4fd82d",
   "metadata": {
    "scrolled": true
   },
   "outputs": [
    {
     "data": {
      "text/html": [
       "<!DOCTYPE html>\n",
       "<html lang=\"en\">\n",
       "<head>\n",
       "    <meta charset=\"utf-8\">\n",
       "    <title>\"My first HTML page\"</title>\n",
       "    <style>\n",
       "    html { min-height: 32em; overflow: hidden; }\n",
       "    </style>\n",
       "</head>\n",
       "<body>\n",
       "<h1>This is a test!</h1>\n",
       "</body>\n",
       "</html>"
      ],
      "text/plain": [
       "<IPython.core.display.HTML object>"
      ]
     },
     "metadata": {
      "isolated": true
     },
     "output_type": "display_data"
    }
   ],
   "source": [
    "show_html(interp_src)"
   ]
  },
  {
   "cell_type": "code",
   "execution_count": 7,
   "id": "78dc3798",
   "metadata": {},
   "outputs": [
    {
     "data": {
      "text/plain": [
       "236"
      ]
     },
     "execution_count": 7,
     "metadata": {},
     "output_type": "execute_result"
    }
   ],
   "source": [
    "open(\"test.html\", \"w\").write(interp_src)"
   ]
  },
  {
   "cell_type": "code",
   "execution_count": 8,
   "id": "bef28553",
   "metadata": {},
   "outputs": [],
   "source": [
    "!open test.html"
   ]
  },
  {
   "cell_type": "code",
   "execution_count": 9,
   "id": "35b576cf",
   "metadata": {},
   "outputs": [
    {
     "data": {
      "text/html": [
       "<!DOCTYPE html>\n",
       "<html lang=\"en\">\n",
       "<head>\n",
       "    <meta charset=\"utf-8\">\n",
       "    <title>\"hello\"</title>\n",
       "    <style>\n",
       "    html { min-height: 32em; overflow: hidden; }\n",
       "    </style>\n",
       "</head>\n",
       "<body>\n",
       "<div style='position: absolute; left:5%; top: 20%;'>hello!</div>\n",
       "</body>\n",
       "</html>"
      ],
      "text/plain": [
       "<IPython.core.display.HTML object>"
      ]
     },
     "metadata": {
      "isolated": true
     },
     "output_type": "display_data"
    }
   ],
   "source": [
    "my_div = \"<div style='position: absolute; left:5%; top: 20%;'>hello!</div>\"\n",
    "html_src = html_tmpl.format(title=\"hello\", content=my_div)\n",
    "show_html(html_src)"
   ]
  },
  {
   "cell_type": "code",
   "execution_count": 10,
   "id": "a05a375f",
   "metadata": {},
   "outputs": [],
   "source": [
    "divs = []\n",
    "for i in range(10, 20):\n",
    "    x = 12*i\n",
    "    y = 10*i\n",
    "    this_div = f\"<div style='position: absolute; left: {x}px; top: {y}px;'>ஃ</div>\"\n",
    "#     this_div = f\"<div style='position: absolute; left: {x+200}px; top: {y+100}px;'>ஃ</div>\"\n",
    "    divs.append(this_div)\n",
    "html_src = html_tmpl.format(title=\"Stars\", content=\"\".join(divs))"
   ]
  },
  {
   "cell_type": "code",
   "execution_count": 11,
   "id": "13eed7e7",
   "metadata": {
    "scrolled": true
   },
   "outputs": [
    {
     "data": {
      "text/html": [
       "<!DOCTYPE html>\n",
       "<html lang=\"en\">\n",
       "<head>\n",
       "    <meta charset=\"utf-8\">\n",
       "    <title>\"Stars\"</title>\n",
       "    <style>\n",
       "    html { min-height: 32em; overflow: hidden; }\n",
       "    </style>\n",
       "</head>\n",
       "<body>\n",
       "<div style='position: absolute; left: 120px; top: 100px;'>ஃ</div><div style='position: absolute; left: 132px; top: 110px;'>ஃ</div><div style='position: absolute; left: 144px; top: 120px;'>ஃ</div><div style='position: absolute; left: 156px; top: 130px;'>ஃ</div><div style='position: absolute; left: 168px; top: 140px;'>ஃ</div><div style='position: absolute; left: 180px; top: 150px;'>ஃ</div><div style='position: absolute; left: 192px; top: 160px;'>ஃ</div><div style='position: absolute; left: 204px; top: 170px;'>ஃ</div><div style='position: absolute; left: 216px; top: 180px;'>ஃ</div><div style='position: absolute; left: 228px; top: 190px;'>ஃ</div>\n",
       "</body>\n",
       "</html>"
      ],
      "text/plain": [
       "<IPython.core.display.HTML object>"
      ]
     },
     "metadata": {
      "isolated": true
     },
     "output_type": "display_data"
    }
   ],
   "source": [
    "show_html(html_src)"
   ]
  },
  {
   "cell_type": "code",
   "execution_count": 12,
   "id": "d41c16c8",
   "metadata": {},
   "outputs": [],
   "source": [
    "def mkdiv(content, **kwargs):\n",
    "    if 'position' not in kwargs:\n",
    "        kwargs['position'] = 'absolute'\n",
    "    style_str = ' '.join([\": \".join((k.replace('_', '-'), v))+\";\" for k, v in kwargs.items()])\n",
    "    return f\"<div style='{style_str}'>{content}</div>\""
   ]
  },
  {
   "cell_type": "code",
   "execution_count": 13,
   "id": "afdcc12a",
   "metadata": {},
   "outputs": [
    {
     "data": {
      "text/plain": [
       "\"<div style='top: 50%; left: 50%; font-family: Helvetica; position: absolute;'>hello</div>\""
      ]
     },
     "execution_count": 13,
     "metadata": {},
     "output_type": "execute_result"
    }
   ],
   "source": [
    "mkdiv(\"hello\", top=\"50%\", left=\"50%\", font_family=\"Helvetica\")"
   ]
  },
  {
   "cell_type": "code",
   "execution_count": 14,
   "id": "0d6d30ea",
   "metadata": {},
   "outputs": [
    {
     "name": "stdout",
     "output_type": "stream",
     "text": [
      "<div style='top: 50%; left: 50%; font-family: Helvetica; position: absolute;'>nice!</div>\n"
     ]
    }
   ],
   "source": [
    "my_fun_div = mkdiv(\"nice!\",\n",
    "                   top=\"50%\",\n",
    "                   left=\"50%\",\n",
    "                   font_family=\"Helvetica\")\n",
    "print(my_fun_div)"
   ]
  },
  {
   "cell_type": "code",
   "execution_count": 92,
   "id": "5132c57f",
   "metadata": {
    "scrolled": true
   },
   "outputs": [
    {
     "data": {
      "text/html": [
       "<!DOCTYPE html>\n",
       "<html lang=\"en\">\n",
       "<head>\n",
       "    <meta charset=\"utf-8\">\n",
       "    <title>\"Positioning\"</title>\n",
       "    <style>\n",
       "    html { min-height: 32em; overflow: hidden; }\n",
       "    </style>\n",
       "</head>\n",
       "<body>\n",
       "<div style='top: 35%; left: 50%; transform: translate(-50%, -50%); font-size: 115pt; position: absolute;'>◌</div><div style='top: 35%; left: 50.5%; transform: translate(-50%, -50%); font-size: 115pt; position: absolute;'>◌</div><div style='top: 60%; left: 45%; transform: translate(-50%, -50%); font-size: 120pt; position: absolute;'>○</div><div style='top: 60%; left: 55%; transform: translate(-50%, -50%); font-size: 120pt; position: absolute;'>●</div><div style='top: 56%; left: 50%; transform: translate(-50%, -50%); font-size: 200pt; position: absolute;'>◯</div>\n",
       "</body>\n",
       "</html>"
      ],
      "text/plain": [
       "<IPython.core.display.HTML object>"
      ]
     },
     "metadata": {
      "isolated": true
     },
     "output_type": "display_data"
    }
   ],
   "source": [
    "my_divs = [\n",
    "#       mkdiv(\"ஃ\", top=\"50%\", left=\"50%\", transform=\"translate(-50%, -50%)\", font_size=\"144pt\"),\n",
    "#         mkdiv(\"◘\", top=\"40%\", left=\"50%\", transform=\"translate(-50%, -50%)\", font_size=\"1000pt\"),\n",
    "    mkdiv(\"◌\", top=\"35%\", left=\"50%\", transform=\"translate(-50%, -50%)\",font_size=\"115pt\"),\n",
    "\n",
    "    mkdiv(\"◌\", top=\"35%\", left=\"50.5%\", transform=\"translate(-50%, -50%)\",font_size=\"115pt\"),\n",
    "    mkdiv(\"○\", top=\"60%\", left=\"45%\", transform=\"translate(-50%, -50%)\", font_size=\"120pt\"),\n",
    "    mkdiv(\"●\", top=\"60%\", left=\"55%\", transform=\"translate(-50%, -50%)\", font_size=\"120pt\"),\n",
    "    mkdiv(\"◯\", top=\"56%\", left=\"50%\", transform=\"translate(-50%, -50%)\", font_size=\"200pt\"),\n",
    "\n",
    "#         mkdiv(\"○\", top=\"35%\", left=\"50%\", font_size=\"144pt\"),\n",
    "#     mkdiv(\"ஃ\", bottom=\"50%\", right=\"50%\", font_size=\"144pt\"),\n",
    "#     mkdiv(\"ஃ\", top=\"50%\", right=\"50%\", font_size=\"144pt\")\n",
    "]\n",
    "html_src = html_tmpl.format(title=\"Positioning\", content=\"\".join(my_divs))\n",
    "show_html(html_src)"
   ]
  },
  {
   "cell_type": "code",
   "execution_count": 31,
   "id": "09d775bd",
   "metadata": {
    "scrolled": true
   },
   "outputs": [
    {
     "data": {
      "text/html": [
       "<!DOCTYPE html>\n",
       "<html lang=\"en\">\n",
       "<head>\n",
       "    <meta charset=\"utf-8\">\n",
       "    <title>\"Center a div\"</title>\n",
       "    <style>\n",
       "    html { min-height: 32em; overflow: hidden; }\n",
       "    </style>\n",
       "</head>\n",
       "<body>\n",
       "[\"<div style='top: 50%; left: 50%; transform: translate(-50%, -50%); font-size: 72pt; position: absolute;'>○◌○</div>\", \"<div style='top: 0%; left: 50%; transform: translate(-50%, -50%); font-size: 72pt; position: absolute;'>○◌○</div>\"]\n",
       "</body>\n",
       "</html>"
      ],
      "text/plain": [
       "<IPython.core.display.HTML object>"
      ]
     },
     "metadata": {
      "isolated": true
     },
     "output_type": "display_data"
    }
   ],
   "source": [
    "this_div = [mkdiv(\"○◌○\",\n",
    "                 top=\"50%\",\n",
    "                 left=\"50%\",\n",
    "                 transform=\"translate(-50%, -50%)\",\n",
    "                 font_size=\"72pt\",\n",
    "),\n",
    "          mkdiv(\"○◌○\",\n",
    "                 top=\"0%\",\n",
    "                 left=\"50%\",\n",
    "                 transform=\"translate(-50%, -50%)\",\n",
    "                 font_size=\"72pt\",\n",
    "), ]\n",
    "html_src = html_tmpl.format(title=\"Center a div\", content=this_div)\n",
    "show_html(html_src)"
   ]
  },
  {
   "cell_type": "markdown",
   "id": "a47fb4a8",
   "metadata": {},
   "source": [
    "# ## The layers I wanted to convey through my poem are -\n",
    "\n",
    "- The shield\n",
    "- The vibration felt on the head when speaking words using this letter\n",
    "- The letter being on its own\n",
    "- The letter being only between two other letters\n",
    "- The usage slowly going away\n",
    "- The letter coming back to use in the last 100 years because of [Tanglish](https://en.wikipedia.org/wiki/Tanglish)\n",
    "    Example, ***fan*** = விசிறி. ***Pronunciation** Visiri*\n",
    "    ***Pronunciation of fan written in Tamil*** = ஃபேன்\n",
    "    In this case, the ஃ is used at the start of the word, which is a rule changed/skipped/evolved/broken."
   ]
  },
  {
   "cell_type": "code",
   "execution_count": 99,
   "id": "e51d5fcd",
   "metadata": {
    "scrolled": true
   },
   "outputs": [
    {
     "data": {
      "text/html": [
       "<!DOCTYPE html>\n",
       "<html lang=\"en\">\n",
       "<head>\n",
       "    <meta charset=\"utf-8\">\n",
       "    <title>\"Positioning\"</title>\n",
       "    <style>\n",
       "    html { min-height: 32em; overflow: hidden; }\n",
       "    </style>\n",
       "</head>\n",
       "<body>\n",
       "<div style='top: 35%; left: 50%; transform: translate(-50%, -50%); font-size: 115pt; position: absolute;'>◌</div><div style='top: 35%; left: 50.5%; transform: translate(-50%, -50%); font-size: 115pt; position: absolute;'>◌</div><div style='top: 60%; left: 45%; transform: translate(-50%, -50%); font-size: 120pt; position: absolute;'>○</div><div style='top: 60%; left: 55%; transform: translate(-50%, -50%); font-size: 120pt; position: absolute;'>●</div><div style='top: 56%; left: 50%; transform: translate(-50%, -50%); font-size: 200pt; position: absolute;'>◯</div>\n",
       "</body>\n",
       "</html>"
      ],
      "text/plain": [
       "<IPython.core.display.HTML object>"
      ]
     },
     "metadata": {
      "isolated": true
     },
     "output_type": "display_data"
    }
   ],
   "source": [
    "my_divs = [\n",
    "    mkdiv(\"◌\", top=\"35%\", left=\"50%\", transform=\"translate(-50%, -50%)\",font_size=\"115pt\"),\n",
    "    mkdiv(\"◌\", top=\"35%\", left=\"50.5%\", transform=\"translate(-50%, -50%)\",font_size=\"115pt\"),\n",
    "    mkdiv(\"○\", top=\"60%\", left=\"45%\", transform=\"translate(-50%, -50%)\", font_size=\"120pt\"),\n",
    "    mkdiv(\"●\", top=\"60%\", left=\"55%\", transform=\"translate(-50%, -50%)\", font_size=\"120pt\"),\n",
    "    mkdiv(\"◯\", top=\"56%\", left=\"50%\", transform=\"translate(-50%, -50%)\", font_size=\"200pt\"),\n",
    "]\n",
    "html_src = html_tmpl.format(title=\"Positioning\", content=\"\".join(my_divs))\n",
    "show_html(html_src)"
   ]
  },
  {
   "cell_type": "code",
   "execution_count": 95,
   "id": "c10d8298",
   "metadata": {},
   "outputs": [
    {
     "data": {
      "text/plain": [
       "772"
      ]
     },
     "execution_count": 95,
     "metadata": {},
     "output_type": "execute_result"
    }
   ],
   "source": [
    "open(\"Sketch3.html\", \"w\").write(html_src)"
   ]
  },
  {
   "cell_type": "code",
   "execution_count": 96,
   "id": "99737547",
   "metadata": {},
   "outputs": [],
   "source": [
    "!open Sketch3.html"
   ]
  }
 ],
 "metadata": {
  "kernelspec": {
   "display_name": "Python 3 (ipykernel)",
   "language": "python",
   "name": "python3"
  },
  "language_info": {
   "codemirror_mode": {
    "name": "ipython",
    "version": 3
   },
   "file_extension": ".py",
   "mimetype": "text/x-python",
   "name": "python",
   "nbconvert_exporter": "python",
   "pygments_lexer": "ipython3",
   "version": "3.9.13"
  }
 },
 "nbformat": 4,
 "nbformat_minor": 5
}
