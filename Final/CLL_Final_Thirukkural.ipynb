{
 "cells": [
  {
   "cell_type": "code",
   "execution_count": 12,
   "id": "5d8e489e",
   "metadata": {},
   "outputs": [
    {
     "data": {
      "application/vnd.jupyter.widget-view+json": {
       "model_id": "53c324f6e7ea40bab7b3436fb6742024",
       "version_major": 2,
       "version_minor": 0
      },
      "text/plain": [
       "Button(description='Generate Random String', style=ButtonStyle())"
      ]
     },
     "metadata": {},
     "output_type": "display_data"
    },
    {
     "data": {
      "application/vnd.jupyter.widget-view+json": {
       "model_id": "50c2236ec8c7487a97018c1ee18cdf16",
       "version_major": 2,
       "version_minor": 0
      },
      "text/plain": [
       "Output()"
      ]
     },
     "metadata": {},
     "output_type": "display_data"
    }
   ],
   "source": [
    "import random\n",
    "import ipywidgets as widgets\n",
    "from IPython.display import display\n",
    "\n",
    "# Define the four strings\n",
    "string1 = 'apple banana cherry date elderberry'\n",
    "string2 = 'fig grapefruit honeydew kiwi lemon'\n",
    "string3 = 'mango nectarine orange peach pear'\n",
    "string4 = 'quince raspberry strawberry tangerine watermelon'\n",
    "\n",
    "# Convert the strings to lists\n",
    "string1_list = string1.split()\n",
    "string2_list = string2.split()\n",
    "string3_list = string3.split()\n",
    "string4_list = string4.split()\n",
    "\n",
    "# Define a function to generate a random string\n",
    "def generate_random_string(button):\n",
    "    random_string = random.choice([string1_list, string2_list, string3_list, string4_list])\n",
    "    output.value = ' '.join(random_string)\n",
    "\n",
    "# Define the button and output widget\n",
    "button = widgets.Button(description='Generate Random String')\n",
    "output = widgets.Output()\n",
    "\n",
    "# Attach the function to the button click event\n",
    "button.on_click(generate_random_string)\n",
    "\n",
    "# Display the button and output widget\n",
    "display(button, output)\n"
   ]
  },
  {
   "cell_type": "code",
   "execution_count": 133,
   "id": "0bee7518",
   "metadata": {},
   "outputs": [
    {
     "data": {
      "application/vnd.jupyter.widget-view+json": {
       "model_id": "9d5e928db1464d9f92ea17d4fe812522",
       "version_major": 2,
       "version_minor": 0
      },
      "text/plain": [
       "Button(description='Generate Random String', style=ButtonStyle())"
      ]
     },
     "metadata": {},
     "output_type": "display_data"
    },
    {
     "name": "stdout",
     "output_type": "stream",
     "text": [
      "ஏரின் பெருங்கடல் தங்கா எண்குணத்தான் வறக்குமேல் செந்தண்மை கால்\n"
     ]
    }
   ],
   "source": [
    "import random\n",
    "\n",
    "# Open the file and read the input strings\n",
    "with open('input_strings.txt', 'r') as f:\n",
    "    input_strings = f.readlines()\n",
    "\n",
    "# Convert the input strings to lists of words\n",
    "input_string_lists = [s.strip().split() for s in input_strings]\n",
    "\n",
    "# Define a function to generate a random string\n",
    "# def generate_random_string():\n",
    "#     random_string = random.choice(input_string_lists)\n",
    "#     print(' '.join(random_string))\n",
    "\n",
    "# Define a function to generate a random string\n",
    "# def generate_random_string():\n",
    "#     # Choose a random word from each input string\n",
    "#     random_words = [random.choice(string_list) for string_list in input_string_lists]\n",
    "#     # Join the random words into a single string\n",
    "#     random_string = ' '.join(random_words)\n",
    "#     # Print the random string\n",
    "#     print(random_string)\n",
    "\n",
    "# Define a function to generate a random string\n",
    "# def generate_random_string():\n",
    "#     # Choose the first word from the first input string\n",
    "#     random_words = [random.choice(input_string_lists[0])]\n",
    "#     # Choose a random word from each of the remaining input strings\n",
    "#     for string_list in input_string_lists[1:]:\n",
    "#         random_words.append(random.choice(string_list))\n",
    "#     # Join the random words into a single string\n",
    "#     random_string = ' '.join(random_words)\n",
    "#     # Print the random string\n",
    "#     print(random_string)\n",
    "\n",
    "def generate_random_string():\n",
    "    random_words = []\n",
    "    for i in range(len(input_string_lists[0])):\n",
    "        random_words.append(random.choice([string_list[i] for string_list in input_string_lists]))\n",
    "    random_string = ' '.join(random_words)\n",
    "    print(random_string)\n",
    "\n",
    "\n",
    "\n",
    "\n",
    "# Define a button label\n",
    "button_label = 'Generate Random String'\n",
    "\n",
    "# Generate a random string and print it when the button is clicked\n",
    "button = widgets.Button(description=button_label)\n",
    "button.on_click(lambda x: generate_random_string())\n",
    "\n",
    "# Display the button\n",
    "display(button)\n"
   ]
  },
  {
   "cell_type": "code",
   "execution_count": 134,
   "id": "f9ed3add",
   "metadata": {},
   "outputs": [
    {
     "data": {
      "application/vnd.jupyter.widget-view+json": {
       "model_id": "20ec4f389a094c1db390d195114e4374",
       "version_major": 2,
       "version_minor": 0
      },
      "text/plain": [
       "Button(description='Generate Random String', style=ButtonStyle())"
      ]
     },
     "metadata": {},
     "output_type": "display_data"
    },
    {
     "name": "stdout",
     "output_type": "stream",
     "text": [
      "பிறவிப் உலகம் ஓரைந்தும் றெவ்வுயிர் கணமேயும் வணங்காத் வார்\n",
      "பொறிவாயில் வேண்டாமை ஓரைந்தும் வெகுளி உள்நின்று இடும்பை அரிது\n",
      "அந்தணர் தன்நீர்மை பயனென்கொல் தடிந்தெழிலி க்கும் பனுவல் உலகு\n"
     ]
    }
   ],
   "source": [
    "import random\n",
    "\n",
    "# Open the file and read the input strings\n",
    "with open('input_strings.txt', 'r') as f:\n",
    "    input_strings = f.readlines()\n",
    "\n",
    "# Convert the input strings to lists of words\n",
    "input_string_lists = [s.strip().split() for s in input_strings]\n",
    "\n",
    "def generate_random_string():\n",
    "    random_words = []\n",
    "    for i in range(len(input_string_lists[0])):\n",
    "        random_words.append(random.choice([string_list[i] for string_list in input_string_lists]))\n",
    "    random_string = ' '.join(random_words)\n",
    "    print(random_string)\n",
    "\n",
    "# Define a button label\n",
    "button_label = 'Generate Random String'\n",
    "\n",
    "# Generate a random string and print it when the button is clicked\n",
    "button = widgets.Button(description=button_label)\n",
    "button.on_click(lambda x: generate_random_string())\n",
    "\n",
    "# Display the button\n",
    "display(button)\n"
   ]
  },
  {
   "cell_type": "code",
   "execution_count": 135,
   "id": "2a2f31c3",
   "metadata": {},
   "outputs": [
    {
     "data": {
      "application/vnd.jupyter.widget-view+json": {
       "model_id": "2113de7a6b7e43a6858152b9807fd2db",
       "version_major": 2,
       "version_minor": 0
      },
      "text/plain": [
       "GridBox(children=(Button(description='அகர', layout=Layout(height='50px', width='50px'), style=ButtonStyle()), …"
      ]
     },
     "metadata": {},
     "output_type": "display_data"
    },
    {
     "data": {
      "application/vnd.jupyter.widget-view+json": {
       "model_id": "cec89bb83d0347d28b14a3e171a6f3b3",
       "version_major": 2,
       "version_minor": 0
      },
      "text/plain": [
       "Button(description='Generate Random String', style=ButtonStyle())"
      ]
     },
     "metadata": {},
     "output_type": "display_data"
    },
    {
     "name": "stdout",
     "output_type": "stream",
     "text": [
      "பிறவிப் அமையாது மாணடி நீந்தார் உள்நின்று செந்தண்மை தார்\n"
     ]
    },
    {
     "ename": "ValueError",
     "evalue": "'பிறவிப்' is not in list",
     "output_type": "error",
     "traceback": [
      "\u001b[0;31m---------------------------------------------------------------------------\u001b[0m",
      "\u001b[0;31mValueError\u001b[0m                                Traceback (most recent call last)",
      "\u001b[0;32m/var/folders/c6/y8jxs3ls5dz3nj192z0h4s7m0000gn/T/ipykernel_14989/1023035191.py\u001b[0m in \u001b[0;36m<lambda>\u001b[0;34m(x)\u001b[0m\n\u001b[1;32m     31\u001b[0m \u001b[0;31m# Generate a random string and print it when the button is clicked\u001b[0m\u001b[0;34m\u001b[0m\u001b[0;34m\u001b[0m\u001b[0m\n\u001b[1;32m     32\u001b[0m \u001b[0mbutton\u001b[0m \u001b[0;34m=\u001b[0m \u001b[0mwidgets\u001b[0m\u001b[0;34m.\u001b[0m\u001b[0mButton\u001b[0m\u001b[0;34m(\u001b[0m\u001b[0mdescription\u001b[0m\u001b[0;34m=\u001b[0m\u001b[0mbutton_label\u001b[0m\u001b[0;34m)\u001b[0m\u001b[0;34m\u001b[0m\u001b[0;34m\u001b[0m\u001b[0m\n\u001b[0;32m---> 33\u001b[0;31m \u001b[0mbutton\u001b[0m\u001b[0;34m.\u001b[0m\u001b[0mon_click\u001b[0m\u001b[0;34m(\u001b[0m\u001b[0;32mlambda\u001b[0m \u001b[0mx\u001b[0m\u001b[0;34m:\u001b[0m \u001b[0mgenerate_random_string\u001b[0m\u001b[0;34m(\u001b[0m\u001b[0;34m)\u001b[0m\u001b[0;34m)\u001b[0m\u001b[0;34m\u001b[0m\u001b[0;34m\u001b[0m\u001b[0m\n\u001b[0m\u001b[1;32m     34\u001b[0m \u001b[0;34m\u001b[0m\u001b[0m\n\u001b[1;32m     35\u001b[0m \u001b[0;31m# Create a list of squares representing the words in the input strings\u001b[0m\u001b[0;34m\u001b[0m\u001b[0;34m\u001b[0m\u001b[0m\n",
      "\u001b[0;32m/var/folders/c6/y8jxs3ls5dz3nj192z0h4s7m0000gn/T/ipykernel_14989/1023035191.py\u001b[0m in \u001b[0;36mgenerate_random_string\u001b[0;34m()\u001b[0m\n\u001b[1;32m     24\u001b[0m     \u001b[0;31m# Highlight the selected square\u001b[0m\u001b[0;34m\u001b[0m\u001b[0;34m\u001b[0m\u001b[0m\n\u001b[1;32m     25\u001b[0m     \u001b[0;32mfor\u001b[0m \u001b[0mi\u001b[0m \u001b[0;32min\u001b[0m \u001b[0mrange\u001b[0m\u001b[0;34m(\u001b[0m\u001b[0mlen\u001b[0m\u001b[0;34m(\u001b[0m\u001b[0mrandom_words\u001b[0m\u001b[0;34m)\u001b[0m\u001b[0;34m)\u001b[0m\u001b[0;34m:\u001b[0m\u001b[0;34m\u001b[0m\u001b[0;34m\u001b[0m\u001b[0m\n\u001b[0;32m---> 26\u001b[0;31m         \u001b[0msquare_list\u001b[0m\u001b[0;34m[\u001b[0m\u001b[0mi\u001b[0m\u001b[0;34m*\u001b[0m\u001b[0;36m7\u001b[0m \u001b[0;34m+\u001b[0m \u001b[0minput_string_lists\u001b[0m\u001b[0;34m[\u001b[0m\u001b[0mi\u001b[0m\u001b[0;34m]\u001b[0m\u001b[0;34m.\u001b[0m\u001b[0mindex\u001b[0m\u001b[0;34m(\u001b[0m\u001b[0mrandom_words\u001b[0m\u001b[0;34m[\u001b[0m\u001b[0mi\u001b[0m\u001b[0;34m]\u001b[0m\u001b[0;34m)\u001b[0m\u001b[0;34m]\u001b[0m\u001b[0;34m.\u001b[0m\u001b[0mcolor\u001b[0m \u001b[0;34m=\u001b[0m \u001b[0;34m'red'\u001b[0m\u001b[0;34m\u001b[0m\u001b[0;34m\u001b[0m\u001b[0m\n\u001b[0m\u001b[1;32m     27\u001b[0m \u001b[0;34m\u001b[0m\u001b[0m\n\u001b[1;32m     28\u001b[0m \u001b[0;31m# Define a button label\u001b[0m\u001b[0;34m\u001b[0m\u001b[0;34m\u001b[0m\u001b[0m\n",
      "\u001b[0;31mValueError\u001b[0m: 'பிறவிப்' is not in list"
     ]
    }
   ],
   "source": [
    "import random\n",
    "import ipywidgets as widgets\n",
    "from IPython.display import display\n",
    "\n",
    "# Open the file and read the input strings\n",
    "with open('input_strings.txt', 'r') as f:\n",
    "    input_strings = f.readlines()\n",
    "\n",
    "# Convert the input strings to lists of words\n",
    "input_string_lists = [s.strip().split() for s in input_strings]\n",
    "\n",
    "# Define a function to generate a random string\n",
    "def generate_random_string():\n",
    "    random_words = []\n",
    "    for i in range(len(input_string_lists[0])):\n",
    "        random_words.append(random.choice([string_list[i] for string_list in input_string_lists]))\n",
    "    random_string = ' '.join(random_words)\n",
    "    print(random_string)\n",
    "    \n",
    "    # Clear the previous selection\n",
    "    for square in square_list:\n",
    "        square.color = 'white'\n",
    "        \n",
    "    # Highlight the selected square\n",
    "    for i in range(len(random_words)):\n",
    "        square_list[i*7 + input_string_lists[i].index(random_words[i])].color = 'red'\n",
    "\n",
    "# Define a button label\n",
    "button_label = 'Generate Random String'\n",
    "\n",
    "# Generate a random string and print it when the button is clicked\n",
    "button = widgets.Button(description=button_label)\n",
    "button.on_click(lambda x: generate_random_string())\n",
    "\n",
    "# Create a list of squares representing the words in the input strings\n",
    "square_list = []\n",
    "for i, string_list in enumerate(input_string_lists):\n",
    "    for j, word in enumerate(string_list):\n",
    "        square = widgets.Button(description=word, layout=widgets.Layout(width='50px', height='50px'))\n",
    "        if j == 0:\n",
    "            square.color = 'red'\n",
    "        square_list.append(square)\n",
    "\n",
    "# Display the squares in a grid\n",
    "grid = widgets.GridBox(square_list, layout=widgets.Layout(grid_template_columns='repeat(5, 50px)'))\n",
    "display(grid)\n",
    "\n",
    "# Display the button below the grid\n",
    "display(button)\n"
   ]
  },
  {
   "cell_type": "code",
   "execution_count": 137,
   "id": "b0c1600f",
   "metadata": {},
   "outputs": [
    {
     "name": "stdout",
     "output_type": "stream",
     "text": [
      "fig banana strawberry tangerine pear\n"
     ]
    },
    {
     "data": {
      "application/vnd.jupyter.widget-view+json": {
       "model_id": "4a5071055f8c4d269a2351c16de04abd",
       "version_major": 2,
       "version_minor": 0
      },
      "text/plain": [
       "Button(description='Generate Random String', style=ButtonStyle())"
      ]
     },
     "metadata": {},
     "output_type": "display_data"
    },
    {
     "data": {
      "image/png": "[encoded data removed]",
      "text/plain": [
       "<Figure size 640x480 with 1 Axes>"
      ]
     },
     "metadata": {},
     "output_type": "display_data"
    }
   ],
   "source": [
    "import random\n",
    "import ipywidgets as widgets\n",
    "import numpy as np\n",
    "import matplotlib.pyplot as plt\n",
    "\n",
    "# Open the file and read the input strings\n",
    "with open('input_strings.txt', 'r') as f:\n",
    "    input_strings = f.readlines()\n",
    "\n",
    "# Convert the input strings to lists of words\n",
    "input_string_lists = [s.strip().split() for s in input_strings]\n",
    "# print(input_string_lists)\n",
    "# Define a function to generate a random string\n",
    "def generate_random_string():\n",
    "    random_words = []\n",
    "    random_indexes = []\n",
    "    for i in range(len(input_string_lists[0])):\n",
    "        random_index = random.randint(0, len(input_string_lists)-1)\n",
    "        random_indexes.append(random_index)\n",
    "        random_words.append(input_string_lists[random_index][i])\n",
    "    random_string = ' '.join(random_words)\n",
    "    print(random_string)\n",
    "    \n",
    "    # Plot the grid of squares and highlight the selected words\n",
    "    fig, ax = plt.subplots()\n",
    "    ax.set_axis_off()\n",
    "    nrows, ncols = len(input_string_lists), len(input_string_lists[0])\n",
    "    square_size = 0.2\n",
    "    for i in range(nrows):\n",
    "        for j in range(ncols):\n",
    "            x, y = j * square_size, (nrows-i-1) * square_size\n",
    "            square = plt.Rectangle((x, y), square_size, square_size, facecolor='white', edgecolor='black')\n",
    "            ax.add_patch(square)\n",
    "            if j == random_indexes[i]:\n",
    "                square.set_facecolor('red')\n",
    "            label = input_string_lists[i][j]\n",
    "            ax.text(x+0.5*square_size, y+0.5*square_size, label, ha='center', va='center')\n",
    "\n",
    "# Generate the initial grid of squares\n",
    "generate_random_string()\n",
    "\n",
    "# Define a button label\n",
    "button_label = 'Generate Random String'\n",
    "\n",
    "# Define a function to generate a new random string and update the grid of squares\n",
    "def update_grid(button):\n",
    "    generate_random_string()\n",
    "\n",
    "# Create the button widget and connect it to the update function\n",
    "button = widgets.Button(description=button_label)\n",
    "button.on_click(update_grid)\n",
    "\n",
    "# Display the button widget\n",
    "display(button)\n"
   ]
  },
  {
   "cell_type": "markdown",
   "id": "efba22d8",
   "metadata": {},
   "source": [
    "# Final\n",
    "Others below this are also explorations."
   ]
  },
  {
   "cell_type": "code",
   "execution_count": 141,
   "id": "9f079b29",
   "metadata": {},
   "outputs": [
    {
     "data": {
      "image/png": "[encoded data removed]",
      "text/plain": [
       "<Figure size 500x500 with 1 Axes>"
      ]
     },
     "metadata": {},
     "output_type": "display_data"
    },
    {
     "name": "stdout",
     "output_type": "stream",
     "text": [
      "உரனென்னும் அந்தணன் ஈண்டுஅறம் விழுப்பத்து தான்நல்கா உடற்றும் எனின்\n"
     ]
    },
    {
     "data": {
      "application/vnd.jupyter.widget-view+json": {
       "model_id": "cdbf046847a046fa992b6065823796f8",
       "version_major": 2,
       "version_minor": 0
      },
      "text/plain": [
       "Button(description='Random Kural', style=ButtonStyle())"
      ]
     },
     "metadata": {},
     "output_type": "display_data"
    }
   ],
   "source": [
    "import random\n",
    "import ipywidgets as widgets\n",
    "import numpy as np\n",
    "import matplotlib.pyplot as plt\n",
    "\n",
    "flag = 0\n",
    "\n",
    "\n",
    "# Open the file and read the input strings\n",
    "with open('input_strings.txt', 'r') as f:\n",
    "    input_strings = f.readlines()\n",
    "\n",
    "# Convert the input strings to lists of words\n",
    "input_string_lists = [s.strip().split() for s in input_strings]\n",
    "# print(input_string_lists)\n",
    "\n",
    "# Define a function to generate a random string\n",
    "def generate_random_string():\n",
    "    # Generate a random string\n",
    "    random_words = []\n",
    "    random_indexes = []\n",
    "    for i in range(len(input_string_lists[0])):\n",
    "        random_index = random.randint(0, len(input_string_lists)-1)\n",
    "        random_indexes.append(random_index)\n",
    "        random_words.append(input_string_lists[random_index][i])\n",
    "    random_string = ' '.join(random_words)\n",
    "#     print(random_string)\n",
    "    \n",
    "    # Plot the grid of squares and highlight the selected words\n",
    "#     fig, ax = plt.subplots()\n",
    "    fig, ax = plt.subplots(figsize=(5, 5))\n",
    "\n",
    "    ax.set_axis_off()\n",
    "    nrows, ncols = len(input_string_lists), len(input_string_lists[0])\n",
    "    square_size = 0.03\n",
    "    for i in range(nrows):\n",
    "        for j in range(ncols):\n",
    "#             print (flag)\n",
    "            x, y = j * square_size, (nrows-i-1) * square_size\n",
    "            square_color = 'black' if input_string_lists[i][j] == random_words[j] else 'white'\n",
    "            square = plt.Rectangle((x, y), square_size, square_size, facecolor=square_color, edgecolor='green')\n",
    "            ax.add_patch(square)\n",
    "#             print(x)\n",
    "#             print(y)\n",
    "#             if y == 0.0 and x == 0.18:\n",
    "#                 x, y = 10* j * square_size, (nrows-i-1) * square_size\n",
    "#             label = input_string_lists[i][j]\n",
    "#             ax.text(x+0.5*square_size, y+0.5*square_size, label, ha='center', va='center')\n",
    "    \n",
    "    plt.show()\n",
    "    print(random_string)\n",
    "\n",
    "# Generate the initial grid of squares\n",
    "generate_random_string()\n",
    "\n",
    "# Define a button label\n",
    "button_label = 'Random Kural'\n",
    "\n",
    "# Define a function to generate a new random string and update the grid of squares\n",
    "def update_grid(button):\n",
    "    generate_random_string()\n",
    "\n",
    "# Create the button widget and connect it to the update function\n",
    "button = widgets.Button(description=button_label)\n",
    "button.on_click(update_grid)\n",
    "\n",
    "# Display the button widget\n",
    "display(button)\n"
   ]
  },
  {
   "cell_type": "code",
   "execution_count": 106,
   "id": "fc22125a",
   "metadata": {},
   "outputs": [
    {
     "name": "stdout",
     "output_type": "stream",
     "text": [
      "கற்றதனால் கெட்டார்க்குச் உலகெனின் கல்லால் மனக்கவலை நீந்தல் டற்று\n"
     ]
    },
    {
     "data": {
      "image/png": "[encoded data removed]",
      "text/plain": [
       "<Figure size 640x480 with 1 Axes>"
      ]
     },
     "metadata": {},
     "output_type": "display_data"
    },
    {
     "data": {
      "application/vnd.jupyter.widget-view+json": {
       "model_id": "2c07752709fc4b0899ae302ca845923a",
       "version_major": 2,
       "version_minor": 0
      },
      "text/plain": [
       "Button(description='Generate Random String', style=ButtonStyle())"
      ]
     },
     "metadata": {},
     "output_type": "display_data"
    }
   ],
   "source": [
    "import random\n",
    "import ipywidgets as widgets\n",
    "import numpy as np\n",
    "import matplotlib.pyplot as plt\n",
    "\n",
    "# Open the file and read the input strings\n",
    "with open('input_strings.txt', 'r') as f:\n",
    "    input_strings = f.readlines()\n",
    "\n",
    "# Convert the input strings to lists of words\n",
    "input_string_lists = [s.strip().split() for s in input_strings]\n",
    "# print(input_string_lists)\n",
    "\n",
    "# Define a function to generate a random string\n",
    "def generate_random_string():\n",
    "    # Generate a random string\n",
    "    random_words = []\n",
    "    random_indexes = []\n",
    "    red_square_centers = []  # list of the centers of all red squares\n",
    "    for i in range(len(input_string_lists[0])):\n",
    "        random_index = random.randint(0, len(input_string_lists)-1)\n",
    "        random_indexes.append(random_index)\n",
    "        random_words.append(input_string_lists[random_index][i])\n",
    "    random_string = ' '.join(random_words)\n",
    "    print(random_string)\n",
    "    \n",
    "    # Plot the grid of squares and highlight the selected words\n",
    "    fig, ax = plt.subplots()\n",
    "#     fig, ax = plt.subplots(figsize=(5, 5))\n",
    "    ax.set_axis_off()\n",
    "    nrows, ncols = len(input_string_lists), len(input_string_lists[0])\n",
    "    square_size = 0.01\n",
    "    for i in range(nrows):\n",
    "        for j in range(ncols):\n",
    "            x, y = j * square_size, (nrows-i-1) * square_size\n",
    "            square_color = 'red' if input_string_lists[i][j] == random_words[j] else 'white'\n",
    "            square = plt.Rectangle((x, y), square_size, square_size, facecolor=square_color, edgecolor='black')\n",
    "            ax.add_patch(square)\n",
    "            if square_color == 'red':\n",
    "                red_square_centers.append((x + square_size / 2, y + square_size / 2))  # add center of red square to list\n",
    "    \n",
    "    # Plot the polyline connecting the centers of all red squares\n",
    "    red_square_centers = np.array(red_square_centers)\n",
    "    if len(red_square_centers) > 1:  # make sure there are at least 2 red squares\n",
    "        ax.plot(red_square_centers[:, 0], red_square_centers[:, 1], color='red')\n",
    "    \n",
    "    plt.show()\n",
    "\n",
    "# Generate the initial grid of squares\n",
    "generate_random_string()\n",
    "\n",
    "# Define a button label\n",
    "button_label = 'Generate Random String'\n",
    "\n",
    "# Define a function to generate a new random string and update the grid of squares\n",
    "def update_grid(button):\n",
    "    generate_random_string()\n",
    "\n",
    "# Create the button widget and connect it to the update function\n",
    "button = widgets.Button(description=button_label)\n",
    "button.on_click(update_grid)\n",
    "\n",
    "# Display the button widget\n",
    "display(button)\n"
   ]
  },
  {
   "cell_type": "code",
   "execution_count": 107,
   "id": "d1720c9a",
   "metadata": {},
   "outputs": [
    {
     "name": "stdout",
     "output_type": "stream",
     "text": [
      "மலர்மிசை தோட்டியான் அல்லால்மற் இறைவன் பசும்புல் வானோர்க்கும் இல\n"
     ]
    },
    {
     "data": {
      "image/png": "[encoded data removed]",
      "text/plain": [
       "<Figure size 640x480 with 1 Axes>"
      ]
     },
     "metadata": {},
     "output_type": "display_data"
    },
    {
     "data": {
      "application/vnd.jupyter.widget-view+json": {
       "model_id": "5416ad599b61415b90b3314406d3a054",
       "version_major": 2,
       "version_minor": 0
      },
      "text/plain": [
       "Button(description='Generate Random String', style=ButtonStyle())"
      ]
     },
     "metadata": {},
     "output_type": "display_data"
    }
   ],
   "source": [
    "import random\n",
    "import ipywidgets as widgets\n",
    "import numpy as np\n",
    "import matplotlib.pyplot as plt\n",
    "from matplotlib.lines import Line2D\n",
    "\n",
    "# Open the file and read the input strings\n",
    "with open('input_strings.txt', 'r') as f:\n",
    "    input_strings = f.readlines()\n",
    "\n",
    "# Convert the input strings to lists of words\n",
    "input_string_lists = [s.strip().split() for s in input_strings]\n",
    "\n",
    "# Define a function to generate a random string\n",
    "def generate_random_string():\n",
    "    # Generate a random string\n",
    "    random_words = []\n",
    "    random_indexes = []\n",
    "    for i in range(len(input_string_lists[0])):\n",
    "        random_index = random.randint(0, len(input_string_lists)-1)\n",
    "        random_indexes.append(random_index)\n",
    "        random_words.append(input_string_lists[random_index][i])\n",
    "    random_string = ' '.join(random_words)\n",
    "    print(random_string)\n",
    "    \n",
    "    # Plot the grid of squares and highlight the selected words\n",
    "    fig, ax = plt.subplots()\n",
    "    ax.set_axis_off()\n",
    "    nrows, ncols = len(input_string_lists), len(input_string_lists[0])\n",
    "    square_size = 0.05\n",
    "    red_squares = []\n",
    "    for i in range(nrows):\n",
    "        for j in range(ncols):\n",
    "            x, y = j * square_size, (nrows-i-1) * square_size\n",
    "            square_color = 'red' if input_string_lists[i][j] == random_words[j] else 'black'\n",
    "            square = plt.Rectangle((x, y), square_size, square_size, facecolor=square_color, edgecolor='white')\n",
    "            ax.add_patch(square)\n",
    "            if square_color == 'red':\n",
    "                red_squares.append((x+0.5*square_size, y+0.5*square_size))\n",
    "    \n",
    "    # Add a thick red line connecting the centers of the red squares\n",
    "    if len(red_squares) > 1:\n",
    "        xs, ys = zip(*red_squares)\n",
    "        line = Line2D(xs, ys, linewidth=3, color='red')\n",
    "        ax.add_line(line)\n",
    "    \n",
    "    plt.show()\n",
    "\n",
    "# Generate the initial grid of squares\n",
    "generate_random_string()\n",
    "\n",
    "# Define a button label\n",
    "button_label = 'Generate Random String'\n",
    "\n",
    "# Define a function to generate a new random string and update the grid of squares\n",
    "def update_grid(button):\n",
    "    generate_random_string()\n",
    "\n",
    "# Create the button widget and connect it to the update function\n",
    "button = widgets.Button(description=button_label)\n",
    "button.on_click(update_grid)\n",
    "\n",
    "# Display the button widget\n",
    "display(button)\n"
   ]
  }
 ],
 "metadata": {
  "kernelspec": {
   "display_name": "Python 3 (ipykernel)",
   "language": "python",
   "name": "python3"
  },
  "language_info": {
   "codemirror_mode": {
    "name": "ipython",
    "version": 3
   },
   "file_extension": ".py",
   "mimetype": "text/x-python",
   "name": "python",
   "nbconvert_exporter": "python",
   "pygments_lexer": "ipython3",
   "version": "3.9.13"
  }
 },
 "nbformat": 4,
 "nbformat_minor": 5
}
